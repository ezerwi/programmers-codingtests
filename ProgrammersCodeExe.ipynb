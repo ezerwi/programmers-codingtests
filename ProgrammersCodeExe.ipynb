{
  "nbformat": 4,
  "nbformat_minor": 0,
  "metadata": {
    "colab": {
      "name": "ProgrammersCodeExe.ipynb",
      "provenance": [],
      "collapsed_sections": [],
      "authorship_tag": "ABX9TyMrbbgyEE/J+lRQLVGdpfH7",
      "include_colab_link": true
    },
    "kernelspec": {
      "name": "python3",
      "display_name": "Python 3"
    }
  },
  "cells": [
    {
      "cell_type": "markdown",
      "metadata": {
        "id": "view-in-github",
        "colab_type": "text"
      },
      "source": [
        "<a href=\"https://colab.research.google.com/github/ezerwi/programmers-codingtests/blob/master/ProgrammersCodeExe.ipynb\" target=\"_parent\"><img src=\"https://colab.research.google.com/assets/colab-badge.svg\" alt=\"Open In Colab\"/></a>"
      ]
    },
    {
      "cell_type": "markdown",
      "metadata": {
        "id": "Nh3mesHsmwGj",
        "colab_type": "text"
      },
      "source": [
        "Level 1"
      ]
    },
    {
      "cell_type": "markdown",
      "metadata": {
        "id": "M6IB3Lw9nW7v",
        "colab_type": "text"
      },
      "source": [
        "완주하지 못한 선수"
      ]
    },
    {
      "cell_type": "code",
      "metadata": {
        "id": "on1C6jWUmlNC",
        "colab_type": "code",
        "colab": {}
      },
      "source": [
        "def solution(participant, completion):\n",
        "    \n",
        "    participant.sort()\n",
        "    completion.sort()\n",
        "    a = \"\"\n",
        "    \n",
        "    for i in range(len(completion)):\n",
        "        a = participant[len(participant)-1]\n",
        "        if participant[i] != completion[i] :\n",
        "            a = participant[i]\n",
        "            break\n",
        "    return a"
      ],
      "execution_count": 0,
      "outputs": []
    }
  ]
}